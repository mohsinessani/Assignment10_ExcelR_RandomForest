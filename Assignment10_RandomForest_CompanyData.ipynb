{
 "cells": [
  {
   "cell_type": "code",
   "execution_count": null,
   "id": "979e9d36",
   "metadata": {},
   "outputs": [],
   "source": [
    "#Mohsin Essani\n",
    "#Company_Data\n",
    "#Random Forest"
   ]
  },
  {
   "cell_type": "code",
   "execution_count": null,
   "id": "958c5144",
   "metadata": {},
   "outputs": [],
   "source": [
    "import pandas as pd\n",
    "import numpy as np\n",
    "import seaborn as sns\n",
    "import matplotlib.pyplot as plt\n",
    "\n",
    "from sklearn.preprocessing import StandardScaler\n",
    "from sklearn.model_selection import train_test_split, cross_val_score\n",
    "from sklearn.ensemble import RandomForestClassifier\n",
    "from sklearn.metrics import accuracy_score, confusion_matrix, classification_report\n",
    "\n",
    "# Load the data\n",
    "data = pd.read_csv(\"company_data.csv\")\n",
    "\n"
   ]
  },
  {
   "cell_type": "code",
   "execution_count": null,
   "id": "fe6db643",
   "metadata": {},
   "outputs": [],
   "source": [
    "data.isnull().sum()"
   ]
  },
  {
   "cell_type": "code",
   "execution_count": null,
   "id": "0cb43d7f",
   "metadata": {},
   "outputs": [],
   "source": [
    "data.head()"
   ]
  },
  {
   "cell_type": "code",
   "execution_count": null,
   "id": "71056d13",
   "metadata": {},
   "outputs": [],
   "source": []
  },
  {
   "cell_type": "code",
   "execution_count": null,
   "id": "455a7808",
   "metadata": {},
   "outputs": [],
   "source": [
    "data.describe()"
   ]
  },
  {
   "cell_type": "code",
   "execution_count": null,
   "id": "ada97473",
   "metadata": {},
   "outputs": [],
   "source": [
    "data.info()"
   ]
  },
  {
   "cell_type": "code",
   "execution_count": null,
   "id": "7e53df56",
   "metadata": {},
   "outputs": [],
   "source": [
    "\n",
    "# Convert Sales variable into categorical variable\n",
    "data['Sales'] = pd.cut(data['Sales'], bins=[-np.inf, 7.5, np.inf], labels=['Low', 'High'])\n",
    "\n",
    "# Scale the numerical variables\n",
    "scaler = StandardScaler()\n",
    "num_vars = ['CompPrice', 'Income', 'Advertising', 'Population', 'Price', 'Age', 'Education']\n",
    "data[num_vars] = scaler.fit_transform(data[num_vars])\n",
    "\n"
   ]
  },
  {
   "cell_type": "code",
   "execution_count": null,
   "id": "dbd4a154",
   "metadata": {},
   "outputs": [],
   "source": [
    "# One-hot encode the categorical variables\n",
    "cat_vars = ['ShelveLoc', 'Urban', 'US']\n",
    "data = pd.get_dummies(data, columns=cat_vars)\n",
    "\n",
    "# Split the data into training and testing sets\n",
    "X = data.drop('Sales', axis=1)\n",
    "y = data['Sales']\n",
    "X_train, X_test, y_train, y_test = train_test_split(X, y, test_size=0.3, random_state=42)\n",
    "\n"
   ]
  },
  {
   "cell_type": "code",
   "execution_count": null,
   "id": "e3616e7b",
   "metadata": {},
   "outputs": [],
   "source": [
    "# Train a Random Forest model\n",
    "rfc = RandomForestClassifier(n_estimators=100, random_state=42)\n",
    "rfc.fit(X_train, y_train)\n",
    "\n",
    "# Make predictions on the test set\n",
    "y_pred = rfc.predict(X_test)\n",
    "\n"
   ]
  },
  {
   "cell_type": "code",
   "execution_count": null,
   "id": "be0f538a",
   "metadata": {},
   "outputs": [],
   "source": [
    "# Check the accuracy of the model\n",
    "accuracy = accuracy_score(y_test, y_pred)\n",
    "print(\"Accuracy: {:.2f}%\".format(accuracy*100))\n",
    "\n"
   ]
  },
  {
   "cell_type": "code",
   "execution_count": null,
   "id": "636f2971",
   "metadata": {},
   "outputs": [],
   "source": [
    "# Evaluate the model using cross validation\n",
    "scores = cross_val_score(rfc, X, y, cv=5)\n",
    "print(\"Cross validation scores: {}\".format(scores))\n",
    "print(\"Average cross validation score: {:.2f}%\".format(scores.mean()*100))\n"
   ]
  },
  {
   "cell_type": "code",
   "execution_count": null,
   "id": "3c5213f5",
   "metadata": {},
   "outputs": [],
   "source": [
    "\n",
    "# Visualize the feature importances of the Random Forest model\n",
    "feature_importances = pd.Series(rfc.feature_importances_, index=X.columns)\n",
    "top_features = feature_importances.nlargest(10)\n",
    "top_features.plot(kind='barh')\n",
    "plt.title(\"Feature Importances\")\n",
    "plt.show()\n"
   ]
  },
  {
   "cell_type": "code",
   "execution_count": null,
   "id": "6cee9a9e",
   "metadata": {},
   "outputs": [],
   "source": [
    "\n",
    "# Identify the most important variables for high sales\n",
    "high_sales_features = top_features[top_features > 0.05].index\n",
    "print(\"The most important variables for high sales are: {}\".format(list(high_sales_features)))\n"
   ]
  },
  {
   "cell_type": "markdown",
   "id": "d9836a99",
   "metadata": {},
   "source": [
    "# Based on the analysis, the variables Price, Age, CompPrice, Population, Income, Advertising, ShelveLoc_Good, and Education are the most important variables that influence high sales of the product. This means that if the company focuses on improving these variables, it is likely to achieve higher sales of the product. Additionally, the scatter plots indicate that there are some linear relationships between these variables and sales. Therefore, the company could use this information to optimize its marketing and pricing strategies to increase sales and maximize profits."
   ]
  },
  {
   "cell_type": "code",
   "execution_count": null,
   "id": "0d9719c5",
   "metadata": {},
   "outputs": [],
   "source": [
    "\n",
    "# Create scatter plots to explore the relationships between important variables and Sales\n",
    "# Convert the 'High' column to a categorical type\n",
    "\n",
    "\n",
    "# Create scatter plots to explore the relationships between important variables and Sales\n",
    "sns.scatterplot(x='Income', y='Sales', data=data)\n",
    "plt.title(\"Income vs. Sales\")\n",
    "plt.show()\n",
    "\n",
    "\n",
    "#Income is also growing as sales is growing. "
   ]
  },
  {
   "cell_type": "code",
   "execution_count": null,
   "id": "b6cc827b",
   "metadata": {},
   "outputs": [],
   "source": [
    "sns.scatterplot(x='Price', y='Sales', data=data)\n",
    "plt.title(\"Price vs. Sales\")\n",
    "plt.show()\n",
    "\n",
    "#Even if Sales increase, price will also increase. "
   ]
  },
  {
   "cell_type": "code",
   "execution_count": null,
   "id": "d4d1a09e",
   "metadata": {},
   "outputs": [],
   "source": []
  },
  {
   "cell_type": "code",
   "execution_count": null,
   "id": "9049963b",
   "metadata": {},
   "outputs": [],
   "source": [
    "# Create bar charts to compare average Sales by important variables\n",
    "\n",
    "sns.barplot(x='ShelveLoc_Good', y='Sales', data=data)\n",
    "plt.title(\"Average Sales by ShelveLoc\")\n",
    "plt.show()\n",
    "\n"
   ]
  },
  {
   "cell_type": "code",
   "execution_count": null,
   "id": "55704c29",
   "metadata": {},
   "outputs": [],
   "source": [
    "\n",
    "sns.barplot(x='US_Yes', y='Sales', data=data)\n",
    "plt.title(\"Average Sales by US\")\n",
    "plt.show()\n",
    "\n",
    "#US_Yes are increasing in average "
   ]
  },
  {
   "cell_type": "code",
   "execution_count": null,
   "id": "0a113106",
   "metadata": {},
   "outputs": [],
   "source": [
    "# Print classification report to evaluate model performance for high sales\n",
    "y_test_high = (y_test == 'High')\n",
    "y_pred_high = (y_pred == 'High')\n",
    "print(\"Classification Report for High Sales:\")\n",
    "print(classification_report(y_test_high, y_pred_high))"
   ]
  },
  {
   "cell_type": "code",
   "execution_count": null,
   "id": "99e912ef",
   "metadata": {},
   "outputs": [],
   "source": []
  },
  {
   "cell_type": "code",
   "execution_count": null,
   "id": "a803c791",
   "metadata": {},
   "outputs": [],
   "source": []
  }
 ],
 "metadata": {
  "kernelspec": {
   "display_name": "Python 3 (ipykernel)",
   "language": "python",
   "name": "python3"
  },
  "language_info": {
   "codemirror_mode": {
    "name": "ipython",
    "version": 3
   },
   "file_extension": ".py",
   "mimetype": "text/x-python",
   "name": "python",
   "nbconvert_exporter": "python",
   "pygments_lexer": "ipython3",
   "version": "3.9.13"
  }
 },
 "nbformat": 4,
 "nbformat_minor": 5
}
